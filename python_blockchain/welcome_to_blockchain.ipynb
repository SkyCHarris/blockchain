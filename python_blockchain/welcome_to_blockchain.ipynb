{
 "cells": [
  {
   "cell_type": "markdown",
   "metadata": {},
   "source": [
    "# Ethereum"
   ]
  },
  {
   "cell_type": "markdown",
   "metadata": {},
   "source": [
    "Smart Contracts allow for agreements without centralized intermediaries.\n",
    "\n",
    "1994 - Nick Szabo proposed smart contracts\n",
    "\n",
    "Smart Contracts- self-executing sets of instructions. No 3rd parties. Entirely written in code and automatically executed by decentralized blockchain network.\n",
    "\n",
    "Ethereum is viewed as an asset, as well as a utility."
   ]
  },
  {
   "cell_type": "markdown",
   "metadata": {},
   "source": [
    "#### Oracle Problem\n",
    "\n",
    "Blockchains are deterministic systems. Everything that happens happens inside a little box. So Smart Contracts need real world data.\n",
    "\n",
    "To stay decentralized, need data and computation from a decentralized manner as well. External data and computation should be decentralized.\n",
    "\n",
    "On-chain logic, off-chain data, external computation all should be decentralized. This combination is known as Hybrid Smart Contracts.\n",
    "\n",
    "Chainlink allows for unlimited smart contract customization.\n",
    "\n",
    "When talking about smart contracts, often talking about hybrid smart contracts."
   ]
  },
  {
   "cell_type": "markdown",
   "metadata": {},
   "source": [
    "#### Dapp\n",
    "\n",
    "Dapp = Smart Contract = Decentralized Application\n",
    "\n",
    "Dapp is combination of several smart contracts. When we code solidity, we'll see what singular smart contracts look like."
   ]
  },
  {
   "cell_type": "markdown",
   "metadata": {},
   "source": [
    "#### Use-Cases\n",
    "\n",
    "- Defi\n",
    "- NFTs\n",
    "- Layer 2's\n",
    "- Etc.\n",
    "\n",
    "Understanding Ethereum means we'll understand most of these uses. Fundamental skills will translate to other blockchains.\n",
    "\n",
    "Blockchain = smart contract platform = smart contract protocol\n",
    "\n",
    "Chainlink is smart contract agnostic. Works on all the blockchains."
   ]
  },
  {
   "cell_type": "markdown",
   "metadata": {},
   "source": [
    "#### Features and Advantages\n",
    "\n",
    "1. Decentralized\n",
    "\n",
    "    No centralized source that controls the blockchain. Individuals that make up a blockchain are node operators. They run the software that connects the blockchain together.\n",
    "\n",
    "2. Transparency & Flexibility\n",
    "    \n",
    "    Everything that happens on-chain can be seen by everyone. Same rules for everyone.\n",
    "    Blockchain is pseudo-anonymous though.\n",
    "\n",
    "3. Speed & Efficiency\n",
    "\n",
    "    Blockchains are verified by decentralized collective. Settlement/withdrawal is substantially faster. Seconds to minutes.\n",
    "\n",
    "4. Security & Immutability\n",
    "\n",
    "    Can't be changed, tampered with, corrupted. Big security on data and transactions. Makes hacking harder. Assets are locked on the blockchain forever.\n",
    "\n",
    "5. Removal of Counterparty Risk\n",
    "\n",
    "    Removes many loopholes. \n",
    "\n",
    "6. Trust Minimized Agreements\n",
    "\n",
    "    Need to trust a brand to execute faithfully. With crypto we're moving to math-based agreements.\n",
    "\n",
    "* Major takeaways: free and trustless. Engage how we wish, no centralized body influence. Rules are the same for everyone. New world of economic opportunity. More digital lives means more centralized control."
   ]
  },
  {
   "cell_type": "markdown",
   "metadata": {},
   "source": [
    "#### DAOs\n",
    "\n",
    "Decentralized autonomous organizations. Live online, live in smart contracts. All governance done on blockchain settlement layer."
   ]
  },
  {
   "cell_type": "markdown",
   "metadata": {},
   "source": [
    "## Interact with Ethereum Blockchain"
   ]
  },
  {
   "cell_type": "markdown",
   "metadata": {},
   "source": [
    "#### Wallet (MetaMask)\n",
    "\n",
    "Mnemonic lets you create mutliple accounts.\n",
    "\n",
    "Public Address: hash at top of extension\n",
    "Private Key: can be accessed (3-dot -> account details -> show private key)"
   ]
  },
  {
   "cell_type": "markdown",
   "metadata": {},
   "source": []
  },
  {
   "cell_type": "raw",
   "metadata": {},
   "source": [
    "<b>Concept</b>      <b>Can Access</b>       <b>Private or Public</b>\n",
    "Mnemonic            All of your accounts    Keep private!\n",
    "Private key         1 of your accounts      Keep private!\n",
    "Public address      Nothing                 It's public"
   ]
  },
  {
   "cell_type": "markdown",
   "metadata": {},
   "source": [
    "### Testnets\n",
    "\n",
    "Not real money. Just for testing applications. Later we'll see how to work with EVM-compatible chains (Avalanche, Polygon).\n",
    "\n",
    "Testnet: currency doesn't have any value, but works just like the mainnet for testing applications"
   ]
  },
  {
   "cell_type": "markdown",
   "metadata": {},
   "source": [
    "#### Rinkeby Transaction\n",
    "\n",
    "Faucet: testnet application that gives us free test tokens, like free test Rinkeby Ethereum\n",
    "\n",
    "Block Explorer: application that allows us to \"view\" transactions that happen on a blockchain\n",
    "\n",
    "Gas: Fee paid to node operators for including a transaction in a blockchain. A unit of computational measure. The more computation a tx has, the more \"gas\" you have to pay for\n",
    "\n",
    "    ex. Sending ETH to 1 address is a lot cheaper than sending ETH to 1000 addresses.\n",
    "\n",
    "    Able to choose how much gas we want \n",
    "\n",
    "    1 ETH is 1bil Gwei\n",
    "\n",
    "Gas: Measure of computation use\n",
    "Gas Price: How much it costs per unit of gas\n",
    "Gas Limit: Max amount of gas in a transaction\n",
    "\n",
    "Transaction Fee: Gas Used x Gas Price\n",
    "\n",
    "    ex. 21,000 gas @ 1 GWEI per gas = 21,000 GWEI\n",
    "\n",
    "Why do we have the option to pay more gas?\n",
    "- Blockchains can only process so many transactions within a given time\n",
    "- Nodes incentivized to pick high gas/gwei transactions"
   ]
  },
  {
   "cell_type": "markdown",
   "metadata": {},
   "source": []
  }
 ],
 "metadata": {
  "kernelspec": {
   "display_name": "Python 3",
   "language": "python",
   "name": "python3"
  },
  "language_info": {
   "codemirror_mode": {
    "name": "ipython",
    "version": 3
   },
   "file_extension": ".py",
   "mimetype": "text/x-python",
   "name": "python",
   "nbconvert_exporter": "python",
   "pygments_lexer": "ipython3",
   "version": "3.12.1"
  }
 },
 "nbformat": 4,
 "nbformat_minor": 2
}
